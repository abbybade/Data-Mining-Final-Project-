{
 "cells": [
  {
   "cell_type": "markdown",
   "metadata": {},
   "source": [
    "#### Here we are going to compare different Models using the test metric score to select the best model for more comprehensive hyperparamets  tunning."
   ]
  },
  {
   "cell_type": "code",
   "execution_count": null,
   "metadata": {},
   "outputs": [],
   "source": [
    "import torch\n",
    "import torchvision\n",
    "import torchvision.transforms as transforms\n",
    "from torch.utils.data import DataLoader, random_split\n",
    "import torch.nn as nn\n",
    "import torch.optim as optim\n",
    "\n",
    "#load FashionMNIST dataset\n",
    "test_transform = transforms.Compose([transforms.ToTensor(), transforms.Normalize((0.5,), (0.5,))])\n",
    "train_transforms = transforms.Compose([\n",
    "    transforms.ToTensor(),\n",
    "    transforms.Normalize((0.5,), (0.5,))\n",
    "])\n",
    "\n",
    "trainset = torchvision.datasets.FashionMNIST(root='./data', train=True, download=True, transform=train_transforms)\n",
    "testset = torchvision.datasets.FashionMNIST(root='./data', train=False, download=True, transform=test_transform)\n",
    "train_size = int(0.8 * len(trainset))\n",
    "validation_size = len(trainset) - train_size\n",
    "train_dataset, validation_dataset = random_split(trainset, [train_size, validation_size])\n",
    "trainloader = DataLoader(train_dataset, batch_size=20, shuffle=True, num_workers=4)\n",
    "validationloader = DataLoader(validation_dataset, batch_size=20, shuffle=False, num_workers=4)\n",
    "testloader = DataLoader(testset, batch_size=20, shuffle=False, num_workers=4)\n"
   ]
  },
  {
   "cell_type": "code",
   "execution_count": 15,
   "id": "bbddb59e",
   "metadata": {},
   "outputs": [
    {
     "name": "stdout",
     "output_type": "stream",
     "text": [
      "Using device: cuda:0\n"
     ]
    }
   ],
   "source": [
    "device = torch.device(\"cuda:0\" if torch.cuda.is_available() else \"cpu\")\n",
    "print(\"Using device:\", device)"
   ]
  },
  {
   "cell_type": "markdown",
   "id": "ef85142f",
   "metadata": {},
   "source": [
    "## 1. multilayer perceptron (MLP)"
   ]
  },
  {
   "cell_type": "code",
   "execution_count": 17,
   "id": "126d43d2",
   "metadata": {},
   "outputs": [
    {
     "name": "stdout",
     "output_type": "stream",
     "text": [
      "Epoch 1,  Loss: 1.194\n",
      "Epoch 2,  Loss: 0.722\n",
      "Epoch 3,  Loss: 0.633\n",
      "Epoch 4,  Loss: 0.586\n",
      "Epoch 5,  Loss: 0.555\n",
      "Epoch 6,  Loss: 0.532\n",
      "Epoch 7,  Loss: 0.515\n",
      "Epoch 8,  Loss: 0.500\n",
      "Epoch 9,  Loss: 0.488\n",
      "Epoch 10,  Loss: 0.477\n",
      "Epoch 11,  Loss: 0.468\n",
      "Epoch 12,  Loss: 0.460\n",
      "Epoch 13,  Loss: 0.452\n",
      "Epoch 14,  Loss: 0.448\n",
      "Epoch 15,  Loss: 0.440\n",
      "Epoch 16,  Loss: 0.434\n",
      "Epoch 17,  Loss: 0.429\n",
      "Epoch 18,  Loss: 0.425\n",
      "Epoch 19,  Loss: 0.420\n",
      "Epoch 20,  Loss: 0.414\n",
      "Epoch 21,  Loss: 0.411\n",
      "Epoch 22,  Loss: 0.406\n",
      "Epoch 23,  Loss: 0.402\n",
      "Epoch 24,  Loss: 0.400\n",
      "Epoch 25,  Loss: 0.396\n",
      "Epoch 26,  Loss: 0.393\n",
      "Epoch 27,  Loss: 0.389\n",
      "Epoch 28,  Loss: 0.386\n",
      "Epoch 29,  Loss: 0.383\n",
      "Epoch 30,  Loss: 0.381\n",
      "Epoch 31,  Loss: 0.378\n",
      "Epoch 32,  Loss: 0.375\n",
      "Epoch 33,  Loss: 0.371\n",
      "Epoch 34,  Loss: 0.369\n",
      "Epoch 35,  Loss: 0.367\n",
      "Epoch 36,  Loss: 0.365\n",
      "Epoch 37,  Loss: 0.362\n",
      "Epoch 38,  Loss: 0.360\n",
      "Epoch 39,  Loss: 0.358\n",
      "Epoch 40,  Loss: 0.355\n",
      "Epoch 41,  Loss: 0.353\n",
      "Epoch 42,  Loss: 0.351\n",
      "Epoch 43,  Loss: 0.351\n",
      "Epoch 44,  Loss: 0.348\n",
      "Epoch 45,  Loss: 0.346\n",
      "Epoch 46,  Loss: 0.345\n",
      "Epoch 47,  Loss: 0.342\n",
      "Epoch 48,  Loss: 0.341\n",
      "Epoch 49,  Loss: 0.337\n",
      "Epoch 50,  Loss: 0.337\n",
      "Epoch 51,  Loss: 0.335\n",
      "Epoch 52,  Loss: 0.333\n",
      "Epoch 53,  Loss: 0.331\n",
      "Epoch 54,  Loss: 0.330\n",
      "Epoch 55,  Loss: 0.328\n",
      "Epoch 56,  Loss: 0.327\n",
      "Epoch 57,  Loss: 0.326\n",
      "Epoch 58,  Loss: 0.324\n",
      "Epoch 59,  Loss: 0.322\n",
      "Epoch 60,  Loss: 0.320\n",
      "Epoch 61,  Loss: 0.319\n",
      "Epoch 62,  Loss: 0.318\n",
      "Epoch 63,  Loss: 0.316\n",
      "Epoch 64,  Loss: 0.315\n",
      "Epoch 65,  Loss: 0.314\n",
      "Epoch 66,  Loss: 0.313\n",
      "Epoch 67,  Loss: 0.310\n",
      "Epoch 68,  Loss: 0.310\n",
      "Epoch 69,  Loss: 0.308\n",
      "Epoch 70,  Loss: 0.307\n",
      "Epoch 71,  Loss: 0.305\n",
      "Epoch 72,  Loss: 0.304\n",
      "Epoch 73,  Loss: 0.303\n",
      "Epoch 74,  Loss: 0.302\n",
      "Epoch 75,  Loss: 0.300\n",
      "Epoch 76,  Loss: 0.299\n",
      "Epoch 77,  Loss: 0.299\n",
      "Epoch 78,  Loss: 0.297\n",
      "Epoch 79,  Loss: 0.296\n",
      "Epoch 80,  Loss: 0.295\n",
      "Epoch 81,  Loss: 0.293\n",
      "Epoch 82,  Loss: 0.293\n",
      "Epoch 83,  Loss: 0.291\n",
      "Epoch 84,  Loss: 0.290\n",
      "Epoch 85,  Loss: 0.289\n",
      "Epoch 86,  Loss: 0.288\n",
      "Epoch 87,  Loss: 0.286\n",
      "Epoch 88,  Loss: 0.285\n",
      "Epoch 89,  Loss: 0.285\n",
      "Epoch 90,  Loss: 0.284\n",
      "Epoch 91,  Loss: 0.283\n",
      "Epoch 92,  Loss: 0.282\n",
      "Epoch 93,  Loss: 0.282\n",
      "Epoch 94,  Loss: 0.280\n",
      "Epoch 95,  Loss: 0.278\n",
      "Epoch 96,  Loss: 0.277\n",
      "Epoch 97,  Loss: 0.276\n",
      "Epoch 98,  Loss: 0.275\n",
      "Epoch 99,  Loss: 0.275\n",
      "Epoch 100,  Loss: 0.273\n",
      "Finished Training\n",
      "Total Training Time: 1453.27 seconds\n"
     ]
    }
   ],
   "source": [
    "import time\n",
    "class SimpleNN(nn.Module):\n",
    "    def __init__(self):\n",
    "        super(SimpleNN, self).__init__()\n",
    "        self.flatten = nn.Flatten()\n",
    "        self.layer_stack = nn.Sequential(\n",
    "            nn.Linear(28*28, 512),\n",
    "            nn.ReLU(),\n",
    "            nn.Dropout(0.2),\n",
    "            nn.Linear(512, 10)\n",
    "        )\n",
    "\n",
    "    def forward(self, x):\n",
    "        x = self.flatten(x)\n",
    "        x = self.layer_stack(x)\n",
    "        return x\n",
    "\n",
    "\n",
    "\n",
    "#enable GPU\n",
    "model = SimpleNN().to(device)\n",
    "criterion = nn.CrossEntropyLoss()\n",
    "optimizer = optim.SGD(model.parameters(), lr=0.0001, momentum=0.9)\n",
    "\n",
    "\n",
    "#train\n",
    "start_time = time.time()\n",
    "epoch_losses = []\n",
    "for epoch in range(100):\n",
    "    running_loss = 0.0\n",
    "    for i, data in enumerate(trainloader, 0):\n",
    "        inputs, labels = data[0].to(device), data[1].to(device)\n",
    "        optimizer.zero_grad()\n",
    "        outputs = model(inputs)\n",
    "        loss = criterion(outputs, labels)\n",
    "        loss.backward()\n",
    "        optimizer.step()\n",
    "        running_loss += loss.item()\n",
    "\n",
    "    # Calculate and store the average loss for this epoch\n",
    "    avg_loss = running_loss / len(trainloader)\n",
    "    epoch_losses.append(avg_loss)\n",
    "    print(f'Epoch {epoch+1},  Loss: {avg_loss:.3f}')\n",
    "end_time = time.time()\n",
    "print('Finished Training')\n",
    "total_training_time = end_time - start_time\n",
    "print(f'Total Training Time: {total_training_time:.2f} seconds')"
   ]
  },
  {
   "cell_type": "markdown",
   "id": "18fff691",
   "metadata": {},
   "source": [
    "### Loss vs Epoch plot"
   ]
  },
  {
   "cell_type": "code",
   "execution_count": 29,
   "id": "ee67892f",
   "metadata": {},
   "outputs": [
    {
     "data": {
      "image/png": "[encoded data removed]",
      "text/plain": [
       "<Figure size 720x432 with 1 Axes>"
      ]
     },
     "metadata": {
      "needs_background": "light"
     },
     "output_type": "display_data"
    }
   ],
   "source": [
    "# Plotting the loss vs epoch\n",
    "import matplotlib.pyplot as plt\n",
    "plt.figure(figsize=(10, 6))\n",
    "plt.plot(range(1, 101), epoch_losses, label='Loss per Epoch',color=\"orange\")\n",
    "plt.xlabel('Epoch')\n",
    "plt.ylabel('Loss')\n",
    "plt.title('Training Loss vs Epoch')\n",
    "plt.legend()\n",
    "plt.show()\n"
   ]
  },
  {
   "cell_type": "markdown",
   "id": "d176e2ca",
   "metadata": {},
   "source": [
    "### training Data Evalutation Metrics"
   ]
  },
  {
   "cell_type": "code",
   "execution_count": 22,
   "id": "2c1d926f",
   "metadata": {},
   "outputs": [
    {
     "name": "stdout",
     "output_type": "stream",
     "text": [
      "              precision    recall  f1-score   support\n",
      "\n",
      " T-shirt/top      0.850     0.894     0.872      4803\n",
      "     Trouser      0.991     0.975     0.983      4762\n",
      "    Pullover      0.856     0.850     0.853      4800\n",
      "       Dress      0.897     0.920     0.909      4773\n",
      "        Coat      0.819     0.888     0.852      4811\n",
      "      Sandal      0.974     0.962     0.968      4832\n",
      "       Shirt      0.830     0.713     0.767      4787\n",
      "     Sneaker      0.946     0.953     0.950      4815\n",
      "         Bag      0.972     0.971     0.972      4802\n",
      "  Ankle boot      0.961     0.967     0.964      4815\n",
      "\n",
      "    accuracy                          0.910     48000\n",
      "   macro avg      0.910     0.910     0.909     48000\n",
      "weighted avg      0.910     0.910     0.909     48000\n",
      "\n"
     ]
    }
   ],
   "source": [
    "model.eval()\n",
    "from sklearn.metrics import classification_report, accuracy_score\n",
    "\n",
    "y_pred= []\n",
    "y_true=[]\n",
    "with torch.no_grad():\n",
    "    for data in trainloader:\n",
    "        images, labels = data\n",
    "        images, labels = images.to(device), labels.to(device)\n",
    "        outputs = model(images)\n",
    "        _, predicted = torch.max(outputs, 1)\n",
    "        y_pred.extend(predicted.cpu().numpy())\n",
    "        y_true.extend(labels.cpu().numpy())\n",
    "\n",
    "from sklearn.metrics import precision_score, recall_score\n",
    "\n",
    "precision = precision_score(y_true, y_pred, average='macro')\n",
    "recall = recall_score(y_true, y_pred, average='macro')\n",
    "\n",
    "print(classification_report(y_true, y_pred, target_names=testset.classes, digits=3))"
   ]
  },
  {
   "cell_type": "markdown",
   "id": "a086fd88",
   "metadata": {},
   "source": [
    "### validtion data Evaluation Metrics"
   ]
  },
  {
   "cell_type": "code",
   "execution_count": 23,
   "id": "6c725de1",
   "metadata": {},
   "outputs": [
    {
     "name": "stdout",
     "output_type": "stream",
     "text": [
      "              precision    recall  f1-score   support\n",
      "\n",
      " T-shirt/top      0.811     0.855     0.833      1197\n",
      "     Trouser      0.985     0.972     0.978      1238\n",
      "    Pullover      0.805     0.792     0.799      1200\n",
      "       Dress      0.892     0.892     0.892      1227\n",
      "        Coat      0.774     0.848     0.809      1189\n",
      "      Sandal      0.970     0.940     0.955      1168\n",
      "       Shirt      0.756     0.658     0.704      1213\n",
      "     Sneaker      0.935     0.946     0.940      1185\n",
      "         Bag      0.957     0.965     0.961      1198\n",
      "  Ankle boot      0.948     0.970     0.959      1185\n",
      "\n",
      "    accuracy                          0.884     12000\n",
      "   macro avg      0.883     0.884     0.883     12000\n",
      "weighted avg      0.883     0.884     0.883     12000\n",
      "\n"
     ]
    }
   ],
   "source": [
    "model.eval()\n",
    "from sklearn.metrics import classification_report, accuracy_score\n",
    "\n",
    "y_pred= []\n",
    "y_true=[]\n",
    "with torch.no_grad():\n",
    "    for data in validationloader:\n",
    "        images, labels = data\n",
    "        images, labels = images.to(device), labels.to(device)\n",
    "        outputs = model(images)\n",
    "        _, predicted = torch.max(outputs, 1)\n",
    "        y_pred.extend(predicted.cpu().numpy())\n",
    "        y_true.extend(labels.cpu().numpy())\n",
    "\n",
    "from sklearn.metrics import precision_score, recall_score\n",
    "\n",
    "precision = precision_score(y_true, y_pred, average='macro')\n",
    "recall = recall_score(y_true, y_pred, average='macro')\n",
    "\n",
    "print(classification_report(y_true, y_pred, target_names=testset.classes, digits=3))"
   ]
  },
  {
   "cell_type": "markdown",
   "id": "9d659a82",
   "metadata": {},
   "source": [
    "### test data Evaluation Metrics"
   ]
  },
  {
   "cell_type": "code",
   "execution_count": 24,
   "id": "b68f1b70",
   "metadata": {},
   "outputs": [
    {
     "name": "stdout",
     "output_type": "stream",
     "text": [
      "              precision    recall  f1-score   support\n",
      "\n",
      " T-shirt/top      0.820     0.858     0.839      1000\n",
      "     Trouser      0.988     0.965     0.976      1000\n",
      "    Pullover      0.798     0.796     0.797      1000\n",
      "       Dress      0.861     0.890     0.875      1000\n",
      "        Coat      0.776     0.836     0.805      1000\n",
      "      Sandal      0.959     0.935     0.947      1000\n",
      "       Shirt      0.738     0.635     0.683      1000\n",
      "     Sneaker      0.920     0.942     0.931      1000\n",
      "         Bag      0.966     0.964     0.965      1000\n",
      "  Ankle boot      0.948     0.957     0.952      1000\n",
      "\n",
      "    accuracy                          0.878     10000\n",
      "   macro avg      0.877     0.878     0.877     10000\n",
      "weighted avg      0.877     0.878     0.877     10000\n",
      "\n"
     ]
    }
   ],
   "source": [
    "model.eval()\n",
    "from sklearn.metrics import classification_report, accuracy_score\n",
    "\n",
    "y_pred= []\n",
    "y_true=[]\n",
    "with torch.no_grad():\n",
    "    for data in testloader:\n",
    "        images, labels = data\n",
    "        images, labels = images.to(device), labels.to(device)\n",
    "        outputs = model(images)\n",
    "        _, predicted = torch.max(outputs, 1)\n",
    "        y_pred.extend(predicted.cpu().numpy())\n",
    "        y_true.extend(labels.cpu().numpy())\n",
    "\n",
    "from sklearn.metrics import precision_score, recall_score\n",
    "\n",
    "precision = precision_score(y_true, y_pred, average='macro')\n",
    "recall = recall_score(y_true, y_pred, average='macro')\n",
    "\n",
    "print(classification_report(y_true, y_pred, target_names=testset.classes, digits=3))"
   ]
  },
  {
   "cell_type": "markdown",
   "metadata": {},
   "source": [
    "### Confusion Matrix"
   ]
  },
  {
   "cell_type": "code",
   "execution_count": 25,
   "id": "5235e805",
   "metadata": {},
   "outputs": [
    {
     "data": {
      "image/png": "[encoded data removed]",
      "text/plain": [
       "<Figure size 720x720 with 2 Axes>"
      ]
     },
     "metadata": {
      "needs_background": "light"
     },
     "output_type": "display_data"
    }
   ],
   "source": [
    "import torch\n",
    "from sklearn.metrics import classification_report, precision_score, recall_score, confusion_matrix\n",
    "import seaborn as sns\n",
    "import matplotlib.pyplot as plt\n",
    "\n",
    "# Your model evaluation code remains the same...\n",
    "\n",
    "# Generate the confusion matrix\n",
    "cm = confusion_matrix(y_true, y_pred)\n",
    "\n",
    "# Visualization of the confusion matrix\n",
    "plt.figure(figsize=(10, 10))\n",
    "sns.heatmap(cm, annot=True, fmt=\"d\", cmap=\"Blues\", xticklabels=testset.classes, yticklabels=testset.classes)\n",
    "plt.ylabel('Actual')\n",
    "plt.xlabel('Predicted')\n",
    "plt.title('Confusion Matrix')\n",
    "plt.show()\n"
   ]
  },
  {
   "cell_type": "markdown",
   "id": "c7e565a7",
   "metadata": {},
   "source": [
    "# 2. Support Vector Machine\n"
   ]
  },
  {
   "cell_type": "code",
   "execution_count": 6,
   "id": "7fdadf62",
   "metadata": {},
   "outputs": [
    {
     "name": "stdout",
     "output_type": "stream",
     "text": [
      "              precision    recall  f1-score   support\n",
      "\n",
      "           0       0.83      0.86      0.84      1202\n",
      "           1       0.99      0.97      0.98      1219\n",
      "           2       0.83      0.83      0.83      1205\n",
      "           3       0.86      0.92      0.89      1184\n",
      "           4       0.82      0.85      0.83      1202\n",
      "           5       0.97      0.96      0.96      1211\n",
      "           6       0.75      0.66      0.70      1218\n",
      "           7       0.94      0.96      0.95      1159\n",
      "           8       0.95      0.97      0.96      1197\n",
      "           9       0.97      0.96      0.96      1203\n",
      "\n",
      "    accuracy                           0.89     12000\n",
      "   macro avg       0.89      0.89      0.89     12000\n",
      "weighted avg       0.89      0.89      0.89     12000\n",
      "\n",
      "              precision    recall  f1-score   support\n",
      "\n",
      " T-shirt/top      0.818     0.852     0.834      1000\n",
      "     Trouser      0.996     0.959     0.977      1000\n",
      "    Pullover      0.793     0.815     0.804      1000\n",
      "       Dress      0.862     0.890     0.876      1000\n",
      "        Coat      0.801     0.811     0.806      1000\n",
      "      Sandal      0.961     0.958     0.959      1000\n",
      "       Shirt      0.713     0.640     0.675      1000\n",
      "     Sneaker      0.935     0.952     0.944      1000\n",
      "         Bag      0.953     0.972     0.962      1000\n",
      "  Ankle boot      0.962     0.952     0.957      1000\n",
      "\n",
      "    accuracy                          0.880     10000\n",
      "   macro avg      0.879     0.880     0.879     10000\n",
      "weighted avg      0.879     0.880     0.879     10000\n",
      "\n"
     ]
    }
   ],
   "source": [
    "from sklearn import svm\n",
    "from sklearn.metrics import classification_report, accuracy_score\n",
    "from sklearn.model_selection import train_test_split\n",
    "from sklearn.preprocessing import StandardScaler\n",
    "import numpy as np\n",
    "\n",
    "X_train = trainset.data.numpy().reshape((trainset.data.shape[0], -1))\n",
    "y_train = trainset.targets.numpy()\n",
    "X_test = testset.data.numpy().reshape((testset.data.shape[0], -1))\n",
    "y_test = testset.targets.numpy()\n",
    "scaler = StandardScaler()\n",
    "X_train = scaler.fit_transform(X_train)\n",
    "X_test = scaler.transform(X_test)\n",
    "X_train, X_val, y_train, y_val = train_test_split(X_train, y_train, test_size=0.2, random_state=42)\n",
    "clf = svm.SVC(gamma='scale')\n",
    "clf.fit(X_train, y_train)\n",
    "\n",
    "y_pred_val = clf.predict(X_val)\n",
    "print(classification_report(y_val, y_pred_val))\n",
    "\n",
    "# Test svm\n",
    "y_pred_test = clf.predict(X_test)\n",
    "print(classification_report(y_test, y_pred_test, target_names=testset.classes, digits=3))"
   ]
  },
  {
   "cell_type": "markdown",
   "id": "0c68e092",
   "metadata": {},
   "source": [
    "# 3. Random Forest"
   ]
  },
  {
   "cell_type": "code",
   "execution_count": 7,
   "id": "ca372582",
   "metadata": {},
   "outputs": [
    {
     "name": "stdout",
     "output_type": "stream",
     "text": [
      "              precision    recall  f1-score   support\n",
      "\n",
      "           0       0.82      0.86      0.84      1202\n",
      "           1       1.00      0.97      0.98      1219\n",
      "           2       0.79      0.82      0.80      1205\n",
      "           3       0.87      0.91      0.89      1184\n",
      "           4       0.77      0.83      0.80      1202\n",
      "           5       0.97      0.96      0.97      1211\n",
      "           6       0.75      0.60      0.67      1218\n",
      "           7       0.94      0.94      0.94      1159\n",
      "           8       0.96      0.97      0.96      1197\n",
      "           9       0.95      0.96      0.95      1203\n",
      "\n",
      "    accuracy                           0.88     12000\n",
      "   macro avg       0.88      0.88      0.88     12000\n",
      "weighted avg       0.88      0.88      0.88     12000\n",
      "\n",
      "              precision    recall  f1-score   support\n",
      "\n",
      " T-shirt/top      0.818     0.852     0.834      1000\n",
      "     Trouser      0.994     0.956     0.975      1000\n",
      "    Pullover      0.767     0.802     0.784      1000\n",
      "       Dress      0.869     0.902     0.885      1000\n",
      "        Coat      0.765     0.812     0.788      1000\n",
      "      Sandal      0.979     0.958     0.968      1000\n",
      "       Shirt      0.711     0.590     0.645      1000\n",
      "     Sneaker      0.927     0.953     0.940      1000\n",
      "         Bag      0.957     0.973     0.965      1000\n",
      "  Ankle boot      0.950     0.946     0.948      1000\n",
      "\n",
      "    accuracy                          0.874     10000\n",
      "   macro avg      0.873     0.874     0.873     10000\n",
      "weighted avg      0.873     0.874     0.873     10000\n",
      "\n"
     ]
    }
   ],
   "source": [
    "from sklearn.ensemble import RandomForestClassifier\n",
    "\n",
    "clf = RandomForestClassifier(n_estimators=100, random_state=42)\n",
    "clf.fit(X_train, y_train)\n",
    "y_pred_val = clf.predict(X_val)\n",
    "print(classification_report(y_val, y_pred_val))\n",
    "y_pred_test = clf.predict(X_test)\n",
    "print(classification_report(y_test, y_pred_test, target_names=testset.classes, digits=3))"
   ]
  },
  {
   "cell_type": "markdown",
   "id": "792bc4b1",
   "metadata": {},
   "source": [
    "# 4. k-Nearest Neighbors (kNN)\n"
   ]
  },
  {
   "cell_type": "code",
   "execution_count": 8,
   "id": "03cf9a4c",
   "metadata": {},
   "outputs": [
    {
     "name": "stdout",
     "output_type": "stream",
     "text": [
      "              precision    recall  f1-score   support\n",
      "\n",
      "           0       0.75      0.86      0.80      1202\n",
      "           1       0.99      0.97      0.98      1219\n",
      "           2       0.74      0.80      0.77      1205\n",
      "           3       0.88      0.86      0.87      1184\n",
      "           4       0.78      0.75      0.77      1202\n",
      "           5       0.99      0.85      0.91      1211\n",
      "           6       0.66      0.59      0.62      1218\n",
      "           7       0.89      0.96      0.92      1159\n",
      "           8       0.98      0.93      0.95      1197\n",
      "           9       0.90      0.97      0.93      1203\n",
      "\n",
      "    accuracy                           0.85     12000\n",
      "   macro avg       0.86      0.85      0.85     12000\n",
      "weighted avg       0.85      0.85      0.85     12000\n",
      "\n",
      "              precision    recall  f1-score   support\n",
      "\n",
      " T-shirt/top      0.746     0.844     0.792      1000\n",
      "     Trouser      0.980     0.967     0.973      1000\n",
      "    Pullover      0.725     0.791     0.757      1000\n",
      "       Dress      0.896     0.846     0.870      1000\n",
      "        Coat      0.772     0.740     0.756      1000\n",
      "      Sandal      0.979     0.855     0.913      1000\n",
      "       Shirt      0.622     0.585     0.603      1000\n",
      "     Sneaker      0.893     0.950     0.921      1000\n",
      "         Bag      0.982     0.925     0.953      1000\n",
      "  Ankle boot      0.897     0.960     0.928      1000\n",
      "\n",
      "    accuracy                          0.846     10000\n",
      "   macro avg      0.849     0.846     0.847     10000\n",
      "weighted avg      0.849     0.846     0.847     10000\n",
      "\n"
     ]
    }
   ],
   "source": [
    "from sklearn.neighbors import KNeighborsClassifier\n",
    "\n",
    "clf = KNeighborsClassifier(n_neighbors=3)\n",
    "\n",
    "clf.fit(X_train, y_train)\n",
    "y_pred_val = clf.predict(X_val)\n",
    "print(classification_report(y_val, y_pred_val))\n",
    "y_pred_test = clf.predict(X_test)\n",
    "print(classification_report(y_test, y_pred_test, target_names=testset.classes, digits=3))"
   ]
  },
  {
   "cell_type": "markdown",
   "id": "a01b3738",
   "metadata": {},
   "source": [
    "# 5. Gradient Boosting Machines (GBM)"
   ]
  },
  {
   "cell_type": "code",
   "execution_count": 10,
   "id": "ddbcec58",
   "metadata": {},
   "outputs": [
    {
     "name": "stdout",
     "output_type": "stream",
     "text": [
      "              precision    recall  f1-score   support\n",
      "\n",
      "           0       0.84      0.88      0.86      1202\n",
      "           1       1.00      0.98      0.99      1219\n",
      "           2       0.83      0.85      0.84      1205\n",
      "           3       0.89      0.92      0.91      1184\n",
      "           4       0.83      0.84      0.84      1202\n",
      "           5       0.98      0.97      0.98      1211\n",
      "           6       0.77      0.69      0.73      1218\n",
      "           7       0.96      0.96      0.96      1159\n",
      "           8       0.98      0.97      0.97      1197\n",
      "           9       0.97      0.97      0.97      1203\n",
      "\n",
      "    accuracy                           0.90     12000\n",
      "   macro avg       0.90      0.90      0.90     12000\n",
      "weighted avg       0.90      0.90      0.90     12000\n",
      "\n",
      "              precision    recall  f1-score   support\n",
      "\n",
      " T-shirt/top      0.827     0.863     0.844      1000\n",
      "     Trouser      0.995     0.971     0.983      1000\n",
      "    Pullover      0.793     0.821     0.807      1000\n",
      "       Dress      0.899     0.901     0.900      1000\n",
      "        Coat      0.814     0.831     0.822      1000\n",
      "      Sandal      0.989     0.971     0.980      1000\n",
      "       Shirt      0.719     0.659     0.688      1000\n",
      "     Sneaker      0.951     0.966     0.958      1000\n",
      "         Bag      0.970     0.973     0.972      1000\n",
      "  Ankle boot      0.961     0.966     0.964      1000\n",
      "\n",
      "    accuracy                          0.892     10000\n",
      "   macro avg      0.892     0.892     0.892     10000\n",
      "weighted avg      0.892     0.892     0.892     10000\n",
      "\n"
     ]
    }
   ],
   "source": [
    "from xgboost import XGBClassifier\n",
    "\n",
    "clf = XGBClassifier()\n",
    "clf.fit(X_train, y_train)\n",
    "y_pred_val = clf.predict(X_val)\n",
    "print(classification_report(y_val, y_pred_val))\n",
    "y_pred_test = clf.predict(X_test)\n",
    "print(classification_report(y_test, y_pred_test, target_names=testset.classes, digits=3))"
   ]
  },
  {
   "cell_type": "markdown",
   "id": "4e39455b",
   "metadata": {},
   "source": [
    "# 6. Exploring Neural Network more (Convolutional Neural Networks)\n"
   ]
  },
  {
   "cell_type": "code",
   "execution_count": 30,
   "id": "e89261bd",
   "metadata": {},
   "outputs": [
    {
     "name": "stdout",
     "output_type": "stream",
     "text": [
      "Epoch 1,  Loss: 2.303\n",
      "Epoch 2,  Loss: 2.302\n",
      "Epoch 3,  Loss: 2.116\n",
      "Epoch 4,  Loss: 1.113\n",
      "Epoch 5,  Loss: 0.765\n",
      "Epoch 6,  Loss: 0.641\n",
      "Epoch 7,  Loss: 0.566\n",
      "Epoch 8,  Loss: 0.503\n",
      "Epoch 9,  Loss: 0.457\n",
      "Epoch 10,  Loss: 0.413\n",
      "Epoch 11,  Loss: 0.382\n",
      "Epoch 12,  Loss: 0.359\n",
      "Epoch 13,  Loss: 0.334\n",
      "Epoch 14,  Loss: 0.317\n",
      "Epoch 15,  Loss: 0.303\n",
      "Epoch 16,  Loss: 0.290\n",
      "Epoch 17,  Loss: 0.276\n",
      "Epoch 18,  Loss: 0.265\n",
      "Epoch 19,  Loss: 0.254\n",
      "Epoch 20,  Loss: 0.248\n",
      "Epoch 21,  Loss: 0.238\n",
      "Epoch 22,  Loss: 0.230\n",
      "Epoch 23,  Loss: 0.219\n",
      "Epoch 24,  Loss: 0.212\n",
      "Epoch 25,  Loss: 0.203\n",
      "Epoch 26,  Loss: 0.196\n",
      "Epoch 27,  Loss: 0.190\n",
      "Epoch 28,  Loss: 0.183\n",
      "Epoch 29,  Loss: 0.177\n",
      "Epoch 30,  Loss: 0.171\n",
      "Epoch 31,  Loss: 0.161\n",
      "Epoch 32,  Loss: 0.157\n",
      "Epoch 33,  Loss: 0.151\n",
      "Epoch 34,  Loss: 0.144\n",
      "Epoch 35,  Loss: 0.139\n",
      "Epoch 36,  Loss: 0.134\n",
      "Epoch 37,  Loss: 0.128\n",
      "Epoch 38,  Loss: 0.121\n",
      "Epoch 39,  Loss: 0.116\n",
      "Epoch 40,  Loss: 0.110\n",
      "Epoch 41,  Loss: 0.109\n",
      "Epoch 42,  Loss: 0.099\n",
      "Epoch 43,  Loss: 0.095\n",
      "Epoch 44,  Loss: 0.089\n",
      "Epoch 45,  Loss: 0.085\n",
      "Epoch 46,  Loss: 0.081\n",
      "Epoch 47,  Loss: 0.075\n",
      "Epoch 48,  Loss: 0.072\n",
      "Epoch 49,  Loss: 0.068\n",
      "Epoch 50,  Loss: 0.064\n",
      "Epoch 51,  Loss: 0.060\n",
      "Epoch 52,  Loss: 0.055\n",
      "Epoch 53,  Loss: 0.052\n",
      "Epoch 54,  Loss: 0.049\n",
      "Epoch 55,  Loss: 0.047\n",
      "Epoch 56,  Loss: 0.043\n",
      "Epoch 57,  Loss: 0.041\n",
      "Epoch 58,  Loss: 0.039\n",
      "Epoch 59,  Loss: 0.035\n",
      "Epoch 60,  Loss: 0.033\n",
      "Epoch 61,  Loss: 0.033\n",
      "Epoch 62,  Loss: 0.031\n",
      "Epoch 63,  Loss: 0.027\n",
      "Epoch 64,  Loss: 0.029\n",
      "Epoch 65,  Loss: 0.027\n",
      "Epoch 66,  Loss: 0.019\n",
      "Epoch 67,  Loss: 0.022\n",
      "Epoch 68,  Loss: 0.024\n",
      "Epoch 69,  Loss: 0.020\n",
      "Epoch 70,  Loss: 0.024\n",
      "Epoch 71,  Loss: 0.022\n",
      "Epoch 72,  Loss: 0.018\n",
      "Epoch 73,  Loss: 0.011\n",
      "Epoch 74,  Loss: 0.015\n",
      "Epoch 75,  Loss: 0.015\n",
      "Epoch 76,  Loss: 0.020\n",
      "Epoch 77,  Loss: 0.007\n",
      "Epoch 78,  Loss: 0.013\n",
      "Epoch 79,  Loss: 0.016\n",
      "Epoch 80,  Loss: 0.008\n",
      "Epoch 81,  Loss: 0.012\n",
      "Epoch 82,  Loss: 0.006\n",
      "Epoch 83,  Loss: 0.003\n",
      "Epoch 84,  Loss: 0.002\n",
      "Epoch 85,  Loss: 0.004\n",
      "Epoch 86,  Loss: 0.001\n",
      "Epoch 87,  Loss: 0.000\n",
      "Epoch 88,  Loss: 0.000\n",
      "Epoch 89,  Loss: 0.000\n",
      "Epoch 90,  Loss: 0.000\n",
      "Epoch 91,  Loss: 0.000\n",
      "Epoch 92,  Loss: 0.000\n",
      "Epoch 93,  Loss: 0.000\n",
      "Epoch 94,  Loss: 0.000\n",
      "Epoch 95,  Loss: 0.000\n",
      "Epoch 96,  Loss: 0.020\n",
      "Epoch 97,  Loss: 0.014\n",
      "Epoch 98,  Loss: 0.008\n",
      "Epoch 99,  Loss: 0.003\n",
      "Epoch 100,  Loss: 0.017\n",
      "Finished Training\n",
      "Total Training Time: 1888.88 seconds\n"
     ]
    }
   ],
   "source": [
    "import torch\n",
    "import torchvision\n",
    "import torchvision.transforms as transforms\n",
    "from torch.utils.data import DataLoader, random_split\n",
    "import torch.nn as nn\n",
    "import torch.optim as optim\n",
    "import torch.nn.functional as F\n",
    "import time\n",
    "\n",
    "\n",
    "\n",
    "\n",
    "class ComplexFashionMNISTNet2(nn.Module):\n",
    "    def __init__(self):\n",
    "        super(ComplexFashionMNISTNet2, self).__init__()\n",
    "        self.conv1 = nn.Conv2d(1, 32, kernel_size=3, padding=1)\n",
    "        self.conv2 = nn.Conv2d(32, 64, kernel_size=3, padding=1)\n",
    "        self.conv3 = nn.Conv2d(64, 128, kernel_size=3, padding=1)\n",
    "        self.conv4 = nn.Conv2d(128, 256, kernel_size=3, padding=1)\n",
    "        self.pool = nn.MaxPool2d(kernel_size=2, stride=2)\n",
    "        self.avgpool = nn.AdaptiveAvgPool2d((1,1))\n",
    "        self.fc1 = nn.Linear(256,256)\n",
    "        self.fc2 = nn.Linear(256, 128)\n",
    "        self.fc3 = nn.Linear(128, 128)\n",
    "        self.fc4 = nn.Linear(128, 10)\n",
    "        self.dropout = nn.Dropout(0.2)\n",
    "\n",
    "    def forward(self, x):\n",
    "        x = self.pool(F.relu(self.conv1(x)))\n",
    "        x = self.pool(F.relu(self.conv2(x)))\n",
    "        x = self.pool(F.relu(self.conv3(x)))\n",
    "        x = F.relu(self.conv4(x))\n",
    "        x = self.avgpool(x)  \n",
    "        x = torch.flatten(x, 1)\n",
    "        x = F.relu(self.fc1(x))\n",
    "        x = F.relu(self.fc2(x))\n",
    "        x = self.dropout(x)\n",
    "        x = F.relu(self.fc3(x))\n",
    "        x = self.fc4(x)\n",
    "        return x\n",
    "\n",
    "train_transforms = transforms.Compose([\n",
    "    transforms.RandomHorizontalFlip(),\n",
    "    transforms.ToTensor(),\n",
    "    transforms.Normalize((0.5,), (0.5,)),\n",
    "    transforms.RandomErasing()\n",
    "])\n",
    "\n",
    "\n",
    "\n",
    "\n",
    "\n",
    "#enable GPU\n",
    "model = ComplexFashionMNISTNet2().to(device)\n",
    "criterion = nn.CrossEntropyLoss()\n",
    "optimizer = optim.SGD(model.parameters(), lr=0.001, momentum=0.9)\n",
    "\n",
    "start_time = time.time()\n",
    "#train\n",
    "epoch_losses = []\n",
    "\n",
    "for epoch in range(100):\n",
    "    running_loss = 0.0\n",
    "    for i, data in enumerate(trainloader, 0):\n",
    "        inputs, labels = data[0].to(device), data[1].to(device)\n",
    "        optimizer.zero_grad()\n",
    "        outputs = model(inputs)\n",
    "        loss = criterion(outputs, labels)\n",
    "        loss.backward()\n",
    "        optimizer.step()\n",
    "        running_loss += loss.item()\n",
    "        # Calculate and store the average loss for this epoch\n",
    "    avg_loss = running_loss / len(trainloader)\n",
    "    epoch_losses.append(avg_loss)\n",
    "    print(f'Epoch {epoch+1},  Loss: {avg_loss:.3f}')\n",
    "\n",
    "end_time = time.time()\n",
    "\n",
    "# Calculate the total training time\n",
    "total_training_time = end_time - start_time\n",
    "\n",
    "print('Finished Training')\n",
    "print(f'Total Training Time: {total_training_time:.2f} seconds')"
   ]
  },
  {
   "cell_type": "markdown",
   "id": "10c184c5",
   "metadata": {},
   "source": [
    "Loss vs Epoch"
   ]
  },
  {
   "cell_type": "code",
   "execution_count": 32,
   "id": "59b8389f",
   "metadata": {},
   "outputs": [
    {
     "data": {
      "image/png": "[encoded data removed]",
      "text/plain": [
       "<Figure size 720x432 with 1 Axes>"
      ]
     },
     "metadata": {
      "needs_background": "light"
     },
     "output_type": "display_data"
    }
   ],
   "source": [
    "# Plotting the loss vs epoch\n",
    "import matplotlib.pyplot as plt\n",
    "plt.figure(figsize=(10, 6))\n",
    "plt.plot(range(1, 101), epoch_losses, label='Loss per Epoch',color=\"orange\")\n",
    "plt.xlabel('Epoch')\n",
    "plt.ylabel('Loss')\n",
    "plt.title('Training Loss vs Epoch')\n",
    "plt.legend()\n",
    "plt.show()\n"
   ]
  },
  {
   "cell_type": "markdown",
   "id": "31ac49e2",
   "metadata": {},
   "source": [
    "Train data set metrics"
   ]
  },
  {
   "cell_type": "code",
   "execution_count": 33,
   "id": "e857b385",
   "metadata": {},
   "outputs": [
    {
     "name": "stdout",
     "output_type": "stream",
     "text": [
      "              precision    recall  f1-score   support\n",
      "\n",
      " T-shirt/top      1.000     0.983     0.991      4803\n",
      "     Trouser      1.000     0.999     0.999      4762\n",
      "    Pullover      0.986     0.993     0.989      4800\n",
      "       Dress      0.997     0.997     0.997      4773\n",
      "        Coat      0.947     1.000     0.973      4811\n",
      "      Sandal      1.000     0.994     0.997      4832\n",
      "       Shirt      0.989     0.942     0.965      4787\n",
      "     Sneaker      0.998     0.998     0.998      4815\n",
      "         Bag      0.999     1.000     0.999      4802\n",
      "  Ankle boot      0.994     1.000     0.997      4815\n",
      "\n",
      "    accuracy                          0.991     48000\n",
      "   macro avg      0.991     0.991     0.991     48000\n",
      "weighted avg      0.991     0.991     0.991     48000\n",
      "\n"
     ]
    }
   ],
   "source": [
    "model.eval()\n",
    "from sklearn.metrics import classification_report, accuracy_score\n",
    "\n",
    "y_pred= []\n",
    "y_true=[]\n",
    "with torch.no_grad():\n",
    "    for data in trainloader:\n",
    "        images, labels = data\n",
    "        images, labels = images.to(device), labels.to(device)\n",
    "        outputs = model(images)\n",
    "        _, predicted = torch.max(outputs, 1)\n",
    "        y_pred.extend(predicted.cpu().numpy())\n",
    "        y_true.extend(labels.cpu().numpy())\n",
    "\n",
    "from sklearn.metrics import precision_score, recall_score\n",
    "\n",
    "precision = precision_score(y_true, y_pred, average='macro')\n",
    "recall = recall_score(y_true, y_pred, average='macro')\n",
    "\n",
    "print(classification_report(y_true, y_pred, target_names=testset.classes, digits=3))"
   ]
  },
  {
   "cell_type": "markdown",
   "id": "7f2033ef",
   "metadata": {},
   "source": [
    "Validation data set metrics"
   ]
  },
  {
   "cell_type": "code",
   "execution_count": 34,
   "id": "cc49f059",
   "metadata": {},
   "outputs": [
    {
     "name": "stdout",
     "output_type": "stream",
     "text": [
      "              precision    recall  f1-score   support\n",
      "\n",
      " T-shirt/top      0.914     0.819     0.864      1197\n",
      "     Trouser      0.993     0.985     0.989      1238\n",
      "    Pullover      0.846     0.881     0.863      1200\n",
      "       Dress      0.917     0.914     0.916      1227\n",
      "        Coat      0.789     0.920     0.849      1189\n",
      "      Sandal      0.993     0.966     0.979      1168\n",
      "       Shirt      0.795     0.721     0.756      1213\n",
      "     Sneaker      0.965     0.955     0.960      1185\n",
      "         Bag      0.982     0.982     0.982      1198\n",
      "  Ankle boot      0.945     0.982     0.963      1185\n",
      "\n",
      "    accuracy                          0.912     12000\n",
      "   macro avg      0.914     0.913     0.912     12000\n",
      "weighted avg      0.914     0.912     0.912     12000\n",
      "\n"
     ]
    }
   ],
   "source": [
    "model.eval()\n",
    "from sklearn.metrics import classification_report, accuracy_score\n",
    "\n",
    "y_pred= []\n",
    "y_true=[]\n",
    "with torch.no_grad():\n",
    "    for data in validationloader:\n",
    "        images, labels = data\n",
    "        images, labels = images.to(device), labels.to(device)\n",
    "        outputs = model(images)\n",
    "        _, predicted = torch.max(outputs, 1)\n",
    "        y_pred.extend(predicted.cpu().numpy())\n",
    "        y_true.extend(labels.cpu().numpy())\n",
    "\n",
    "from sklearn.metrics import precision_score, recall_score\n",
    "\n",
    "precision = precision_score(y_true, y_pred, average='macro')\n",
    "recall = recall_score(y_true, y_pred, average='macro')\n",
    "\n",
    "print(classification_report(y_true, y_pred, target_names=testset.classes, digits=3))"
   ]
  },
  {
   "cell_type": "markdown",
   "id": "8933acb2",
   "metadata": {},
   "source": [
    "### test data evaluation metric"
   ]
  },
  {
   "cell_type": "code",
   "execution_count": 35,
   "id": "f5846801",
   "metadata": {
    "scrolled": true
   },
   "outputs": [
    {
     "name": "stdout",
     "output_type": "stream",
     "text": [
      "              precision    recall  f1-score   support\n",
      "\n",
      " T-shirt/top      0.906     0.799     0.849      1000\n",
      "     Trouser      0.995     0.982     0.988      1000\n",
      "    Pullover      0.830     0.872     0.851      1000\n",
      "       Dress      0.912     0.912     0.912      1000\n",
      "        Coat      0.770     0.906     0.833      1000\n",
      "      Sandal      0.989     0.965     0.977      1000\n",
      "       Shirt      0.769     0.686     0.725      1000\n",
      "     Sneaker      0.961     0.967     0.964      1000\n",
      "         Bag      0.974     0.983     0.979      1000\n",
      "  Ankle boot      0.959     0.980     0.969      1000\n",
      "\n",
      "    accuracy                          0.905     10000\n",
      "   macro avg      0.907     0.905     0.905     10000\n",
      "weighted avg      0.907     0.905     0.905     10000\n",
      "\n"
     ]
    }
   ],
   "source": [
    "model.eval()\n",
    "from sklearn.metrics import classification_report, accuracy_score\n",
    "\n",
    "y_pred= []\n",
    "y_true=[]\n",
    "with torch.no_grad():\n",
    "    for data in testloader:\n",
    "        images, labels = data\n",
    "        images, labels = images.to(device), labels.to(device)\n",
    "        outputs = model(images)\n",
    "        _, predicted = torch.max(outputs, 1)\n",
    "        y_pred.extend(predicted.cpu().numpy())\n",
    "        y_true.extend(labels.cpu().numpy())\n",
    "\n",
    "from sklearn.metrics import precision_score, recall_score\n",
    "\n",
    "precision = precision_score(y_true, y_pred, average='macro')\n",
    "recall = recall_score(y_true, y_pred, average='macro')\n",
    "\n",
    "print(classification_report(y_true, y_pred, target_names=testset.classes, digits=3))"
   ]
  },
  {
   "cell_type": "markdown",
   "metadata": {},
   "source": [
    "### Confusion Matrix"
   ]
  },
  {
   "cell_type": "code",
   "execution_count": 36,
   "id": "365e1827",
   "metadata": {},
   "outputs": [
    {
     "data": {
      "image/png": "[encoded data removed]",
      "text/plain": [
       "<Figure size 720x720 with 2 Axes>"
      ]
     },
     "metadata": {
      "needs_background": "light"
     },
     "output_type": "display_data"
    }
   ],
   "source": [
    "import torch\n",
    "from sklearn.metrics import classification_report, precision_score, recall_score, confusion_matrix\n",
    "import seaborn as sns\n",
    "import matplotlib.pyplot as plt\n",
    "\n",
    "# Your model evaluation code remains the same...\n",
    "\n",
    "# Generate the confusion matrix\n",
    "cm = confusion_matrix(y_true, y_pred)\n",
    "\n",
    "# Visualization of the confusion matrix\n",
    "plt.figure(figsize=(10, 10))\n",
    "sns.heatmap(cm, annot=True, fmt=\"d\", cmap=\"Blues\", xticklabels=testset.classes, yticklabels=testset.classes)\n",
    "plt.ylabel('Actual')\n",
    "plt.xlabel('Predicted')\n",
    "plt.title('Confusion Matrix')\n",
    "plt.show()\n"
   ]
  },
  {
   "cell_type": "markdown",
   "metadata": {},
   "source": [
    "##### after comapring the test results from different models CNN has the best preformace. Further exploration of the Model is Needed i.e exploring deeper CNN Models and other Hyperparameters for better results"
   ]
  }
 ],
 "metadata": {
  "kernelspec": {
   "display_name": "Python 3 (ipykernel)",
   "language": "python",
   "name": "python3"
  },
  "language_info": {
   "codemirror_mode": {
    "name": "ipython",
    "version": 3
   },
   "file_extension": ".py",
   "mimetype": "text/x-python",
   "name": "python",
   "nbconvert_exporter": "python",
   "pygments_lexer": "ipython3",
   "version": "3.9.12"
  }
 },
 "nbformat": 4,
 "nbformat_minor": 5
}
